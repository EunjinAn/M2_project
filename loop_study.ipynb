{
  "nbformat": 4,
  "nbformat_minor": 0,
  "metadata": {
    "colab": {
      "provenance": [],
      "authorship_tag": "ABX9TyPElgb1GAU2mw1uWQ6R2r9n",
      "include_colab_link": true
    },
    "kernelspec": {
      "name": "python3",
      "display_name": "Python 3"
    },
    "language_info": {
      "name": "python"
    }
  },
  "cells": [
    {
      "cell_type": "markdown",
      "metadata": {
        "id": "view-in-github",
        "colab_type": "text"
      },
      "source": [
        "<a href=\"https://colab.research.google.com/github/EunjinAn/M2_project/blob/main/loop_study.ipynb\" target=\"_parent\"><img src=\"https://colab.research.google.com/assets/colab-badge.svg\" alt=\"Open In Colab\"/></a>"
      ]
    },
    {
      "cell_type": "markdown",
      "source": [
        "### for statement"
      ],
      "metadata": {
        "id": "px4G8MjmFZS7"
      }
    },
    {
      "cell_type": "code",
      "source": [
        "import numpy as np\n",
        "import pandas as pd"
      ],
      "metadata": {
        "id": "KyROm_5tGVhR"
      },
      "execution_count": null,
      "outputs": []
    },
    {
      "cell_type": "code",
      "execution_count": null,
      "metadata": {
        "id": "G2niEYGvFSqJ"
      },
      "outputs": [],
      "source": [
        "numbers = [1,2,3,4,5,6,7,8,9]\n",
        "\n",
        "# Non-Pythonic\n",
        "doubled_numbers = []\n",
        "\n",
        "for i in range(len(numbers)):\n",
        "  doubled_numbers.append(numbers[i] * 2)\n"
      ]
    },
    {
      "cell_type": "markdown",
      "source": [
        "## recommand !!!"
      ],
      "metadata": {
        "id": "rgz8WyxgG8Um"
      }
    },
    {
      "cell_type": "code",
      "source": [
        "# Pythonic\n",
        "doubled_numbers = [x * 2 for x in numbers]"
      ],
      "metadata": {
        "id": "SCRPJUsWG60W"
      },
      "execution_count": null,
      "outputs": []
    },
    {
      "cell_type": "code",
      "source": [
        "doubled_numbers"
      ],
      "metadata": {
        "colab": {
          "base_uri": "https://localhost:8080/"
        },
        "id": "iUDB9Yd2Ga1d",
        "outputId": "aa4a68bc-1736-45f0-f4a0-4e4dff2a32c2"
      },
      "execution_count": null,
      "outputs": [
        {
          "output_type": "execute_result",
          "data": {
            "text/plain": [
              "[2, 4, 6, 8, 10, 12, 14, 16, 18]"
            ]
          },
          "metadata": {},
          "execution_count": 5
        }
      ]
    },
    {
      "cell_type": "markdown",
      "source": [
        "The Python Standard Library\n",
        "\n",
        "Part of every standard Python installation\n",
        "Built-in types\n",
        "- list , tuple , set , dict , and others\n",
        "\n",
        "Built-in functions\n",
        "- print() , len() , range() , round() , enumerate() , map() , zip() , and others\n",
        "\n",
        "Built-in modules\n",
        "- os , sys , itertools , collections , math , and others"
      ],
      "metadata": {
        "id": "alOOnxYqFYa_"
      }
    },
    {
      "cell_type": "code",
      "source": [
        "nums = [0, 1, 2, 3, 4, 5, 6, 7, 8, 9, 10]"
      ],
      "metadata": {
        "id": "0yjAaPx_HS20"
      },
      "execution_count": null,
      "outputs": []
    },
    {
      "cell_type": "code",
      "source": [
        "# range(start,stop)\n",
        "nums = range(0,11)\n",
        "nums_list = list(nums)\n",
        "print(nums_list)\n",
        "\n",
        "# range(stop)\n",
        "nums = range(11)\n",
        "nums_list = list(nums)\n",
        "print(nums_list)"
      ],
      "metadata": {
        "colab": {
          "base_uri": "https://localhost:8080/"
        },
        "id": "apF4dclLHWFe",
        "outputId": "d0d9c4d5-808c-491b-cbb4-78fdbe09c0a8"
      },
      "execution_count": null,
      "outputs": [
        {
          "output_type": "stream",
          "name": "stdout",
          "text": [
            "[0, 1, 2, 3, 4, 5, 6, 7, 8, 9, 10]\n",
            "[0, 1, 2, 3, 4, 5, 6, 7, 8, 9, 10]\n"
          ]
        }
      ]
    },
    {
      "cell_type": "code",
      "source": [
        "even_nums = range(2, 11, 2)\n",
        "even_nums_list = list(even_nums)\n",
        "print(even_nums_list)"
      ],
      "metadata": {
        "colab": {
          "base_uri": "https://localhost:8080/"
        },
        "id": "xm13YFA0Hi_5",
        "outputId": "5dcecf2c-c20d-4843-ba52-4921bf99b806"
      },
      "execution_count": null,
      "outputs": [
        {
          "output_type": "stream",
          "name": "stdout",
          "text": [
            "[2, 4, 6, 8, 10]\n"
          ]
        }
      ]
    },
    {
      "cell_type": "code",
      "source": [
        "letters = ['a','b','c','d' ]\n",
        "\n",
        "indexed_letters = enumerate(letters)\n",
        "indexed_letters_list = list(indexed_letters)\n",
        "print(indexed_letters_list)"
      ],
      "metadata": {
        "colab": {
          "base_uri": "https://localhost:8080/"
        },
        "id": "tsl7yeD8HryM",
        "outputId": "c1acdd23-0730-46f0-cf03-54b3db12a7ab"
      },
      "execution_count": null,
      "outputs": [
        {
          "output_type": "stream",
          "name": "stdout",
          "text": [
            "[(0, 'a'), (1, 'b'), (2, 'c'), (3, 'd')]\n"
          ]
        }
      ]
    },
    {
      "cell_type": "code",
      "source": [
        "letters = ['a','b','c','d' ]\n",
        "indexed_letters2 = enumerate(letters, start=5)\n",
        "indexed_letters2_list = list(indexed_letters2)\n",
        "print(indexed_letters2_list)"
      ],
      "metadata": {
        "colab": {
          "base_uri": "https://localhost:8080/"
        },
        "id": "5JltrscpICDA",
        "outputId": "d609fc5a-975d-436b-ac41-5fef7611c9b0"
      },
      "execution_count": null,
      "outputs": [
        {
          "output_type": "stream",
          "name": "stdout",
          "text": [
            "[(5, 'a'), (6, 'b'), (7, 'c'), (8, 'd')]\n"
          ]
        }
      ]
    },
    {
      "cell_type": "code",
      "source": [
        "nums = [1.5, 2.3, 3.4, 4.6, 5.0]\n",
        "rnd_nums = map(round, nums)\n",
        "print(list(rnd_nums))"
      ],
      "metadata": {
        "colab": {
          "base_uri": "https://localhost:8080/"
        },
        "id": "NOoF-h4oIRCB",
        "outputId": "e6802e4a-2635-4cbe-c95d-36a116595463"
      },
      "execution_count": null,
      "outputs": [
        {
          "output_type": "stream",
          "name": "stdout",
          "text": [
            "[2, 2, 3, 5, 5]\n"
          ]
        }
      ]
    },
    {
      "cell_type": "code",
      "source": [
        "x = lambda a, b : a * b\n",
        "print(x(5, 6))"
      ],
      "metadata": {
        "colab": {
          "base_uri": "https://localhost:8080/"
        },
        "id": "9baej_H2jHR1",
        "outputId": "e841ae5a-1fec-4c31-e309-d2db40fa9490"
      },
      "execution_count": null,
      "outputs": [
        {
          "output_type": "stream",
          "name": "stdout",
          "text": [
            "30\n"
          ]
        }
      ]
    },
    {
      "cell_type": "code",
      "source": [
        "x = lambda a, b, c : a + b + c\n",
        "print(x(5, 6, 2))"
      ],
      "metadata": {
        "colab": {
          "base_uri": "https://localhost:8080/"
        },
        "id": "_V1VWWydjhZx",
        "outputId": "a3a26023-2d21-4b5b-c493-5fb14ae9aedc"
      },
      "execution_count": null,
      "outputs": [
        {
          "output_type": "stream",
          "name": "stdout",
          "text": [
            "13\n"
          ]
        }
      ]
    },
    {
      "cell_type": "code",
      "source": [
        "print(x (1,2,3))"
      ],
      "metadata": {
        "colab": {
          "base_uri": "https://localhost:8080/"
        },
        "id": "ozFhIroCjic8",
        "outputId": "7a40ef2f-9490-4ba0-ef04-176bf3e74b3b"
      },
      "execution_count": null,
      "outputs": [
        {
          "output_type": "stream",
          "name": "stdout",
          "text": [
            "6\n"
          ]
        }
      ]
    },
    {
      "cell_type": "markdown",
      "source": [
        "### Built-in function: map()"
      ],
      "metadata": {
        "id": "fqmToaZgIkwx"
      }
    },
    {
      "cell_type": "code",
      "source": [
        "nums = [1, 2, 3, 4, 5]\n",
        "sqrd_nums = map(lambda x: x ** 2, nums)\n",
        "print(list(sqrd_nums))"
      ],
      "metadata": {
        "colab": {
          "base_uri": "https://localhost:8080/"
        },
        "id": "DPQ17pQbIhNC",
        "outputId": "3aa40fbc-fe89-4d93-f15d-fbef2413c8b2"
      },
      "execution_count": null,
      "outputs": [
        {
          "output_type": "stream",
          "name": "stdout",
          "text": [
            "[1, 4, 9, 16, 25]\n"
          ]
        }
      ]
    },
    {
      "cell_type": "code",
      "source": [
        "nums = [1, 2, 3, 4, 5]\n",
        "sqrd_nums_1 = map(lambda x: x ** 2-1, nums)\n",
        "print(list(sqrd_nums_1))"
      ],
      "metadata": {
        "colab": {
          "base_uri": "https://localhost:8080/"
        },
        "id": "ZZRUlNAYj5q-",
        "outputId": "59c91a50-9cb9-4977-a7d7-bb08f59e0bb7"
      },
      "execution_count": null,
      "outputs": [
        {
          "output_type": "stream",
          "name": "stdout",
          "text": [
            "[0, 3, 8, 15, 24]\n"
          ]
        }
      ]
    },
    {
      "cell_type": "code",
      "source": [
        "nums = [-2,-1, 0, 1, 2]\n",
        "sqrd_nums = []\n",
        "for num in nums:\n",
        "  sqrd_nums.append(num ** 2)\n",
        "print(sqrd_nums)"
      ],
      "metadata": {
        "id": "yIVKvf9SIxsW"
      },
      "execution_count": null,
      "outputs": []
    },
    {
      "cell_type": "code",
      "source": [
        "# List comprehension (better option but not best)\n",
        "sqrd_nums = [num ** 2 for num in nums]\n",
        "print(sqrd_nums)"
      ],
      "metadata": {
        "colab": {
          "base_uri": "https://localhost:8080/"
        },
        "id": "PBrgcfpgJFg9",
        "outputId": "b9363d06-03c7-412e-ac49-f3120232bb77"
      },
      "execution_count": null,
      "outputs": [
        {
          "output_type": "stream",
          "name": "stdout",
          "text": [
            "[4, 1, 0, 1, 4]\n"
          ]
        }
      ]
    },
    {
      "cell_type": "markdown",
      "source": [
        "## Runtime"
      ],
      "metadata": {
        "id": "36GqzrV_Jt6o"
      }
    },
    {
      "cell_type": "code",
      "source": [
        "heroes = ['Batman','Superman','Wonder Woman']\n",
        "hts = np.array([188.0, 191.0, 183.0])\n",
        "wts = np.array([ 95.0, 101.0, 74.0])"
      ],
      "metadata": {
        "id": "RcX8SbkRJPer"
      },
      "execution_count": null,
      "outputs": []
    },
    {
      "cell_type": "code",
      "source": [
        "def convert_units(heroes, heights, weights):\n",
        "  new_hts = [ht * 0.39370 for ht in heights]\n",
        "  new_wts = [wt * 2.20462 for wt in weights]\n",
        "\n",
        "  hero_data = {}\n",
        "\n",
        "  for i,hero in enumerate(heroes):\n",
        "    hero_data[hero] = (new_hts[i], new_wts[i])\n",
        "\n",
        "  return hero_data"
      ],
      "metadata": {
        "id": "ziOw0fO8J0Wr"
      },
      "execution_count": null,
      "outputs": []
    },
    {
      "cell_type": "code",
      "source": [
        "convert_units(heroes, hts, wts)"
      ],
      "metadata": {
        "colab": {
          "base_uri": "https://localhost:8080/"
        },
        "id": "SaWlMbrzKRV8",
        "outputId": "a61bea89-4904-4d10-be90-22890a58f8db"
      },
      "execution_count": null,
      "outputs": [
        {
          "output_type": "execute_result",
          "data": {
            "text/plain": [
              "{'Batman': (74.01559999999999, 209.4389),\n",
              " 'Superman': (75.19669999999999, 222.66661999999997),\n",
              " 'Wonder Woman': (72.0471, 163.14188)}"
            ]
          },
          "metadata": {},
          "execution_count": 17
        }
      ]
    },
    {
      "cell_type": "code",
      "source": [
        "%%timeit\n",
        "def convert_units(heroes, heights, weights):\n",
        "  new_hts = [ht * 0.39370 for ht in heights]\n",
        "  new_wts = [wt * 2.20462 for wt in weights]\n",
        "\n",
        "  hero_data = {}\n",
        "\n",
        "\n",
        "  for i,hero in enumerate(heroes):\n",
        "    hero_data[hero] = (new_hts[i], new_wts[i])"
      ],
      "metadata": {
        "colab": {
          "base_uri": "https://localhost:8080/"
        },
        "id": "aRCIlobwKcuE",
        "outputId": "579d6496-3717-46eb-c070-f0e7f65f8391"
      },
      "execution_count": null,
      "outputs": [
        {
          "output_type": "stream",
          "name": "stdout",
          "text": [
            "70.5 ns ± 1.26 ns per loop (mean ± std. dev. of 7 runs, 10000000 loops each)\n"
          ]
        }
      ]
    },
    {
      "cell_type": "markdown",
      "source": [
        "### Efficiently, combining, counting, and iterating"
      ],
      "metadata": {
        "id": "p1V1lcn4LOf2"
      }
    },
    {
      "cell_type": "code",
      "source": [
        "names = ['Bulbasaur', 'Charmander', 'Squirtle']\n",
        "hps = [45, 39, 44]"
      ],
      "metadata": {
        "id": "xU8OIPjKK_Ix"
      },
      "execution_count": null,
      "outputs": []
    },
    {
      "cell_type": "code",
      "source": [
        "combined = []\n",
        "for i,pokemon in enumerate(names):\n",
        "  combined.append((pokemon, hps[i]))\n",
        "print(combined)"
      ],
      "metadata": {
        "colab": {
          "base_uri": "https://localhost:8080/"
        },
        "id": "Gy9rm14oLhN2",
        "outputId": "6a989cf3-f55e-4bec-a3ea-553a3080b52e"
      },
      "execution_count": null,
      "outputs": [
        {
          "output_type": "stream",
          "name": "stdout",
          "text": [
            "[('Bulbasaur', 45), ('Charmander', 39), ('Squirtle', 44)]\n"
          ]
        }
      ]
    },
    {
      "cell_type": "code",
      "source": [
        "names = ['Bulbasaur','Charmander','Squirtle']\n",
        "hps = [45, 39, 44]"
      ],
      "metadata": {
        "id": "EDWHIbIULpU6"
      },
      "execution_count": null,
      "outputs": []
    },
    {
      "cell_type": "code",
      "source": [
        "combined_zip = zip(names, hps)\n",
        "print(type(combined_zip))"
      ],
      "metadata": {
        "colab": {
          "base_uri": "https://localhost:8080/"
        },
        "id": "_UOourDsLvWX",
        "outputId": "6bbc6a4a-e322-4fa1-f17e-d054866983d7"
      },
      "execution_count": null,
      "outputs": [
        {
          "output_type": "stream",
          "name": "stdout",
          "text": [
            "<class 'zip'>\n"
          ]
        }
      ]
    },
    {
      "cell_type": "code",
      "source": [
        "combined_zip_list = [*combined_zip]\n",
        "print(combined_zip_list)"
      ],
      "metadata": {
        "colab": {
          "base_uri": "https://localhost:8080/"
        },
        "id": "qRF4L6iPL3o4",
        "outputId": "42198810-42cf-46ad-fb1a-1889baf397f3"
      },
      "execution_count": null,
      "outputs": [
        {
          "output_type": "stream",
          "name": "stdout",
          "text": [
            "[('Bulbasaur', 45), ('Charmander', 39), ('Squirtle', 44)]\n"
          ]
        }
      ]
    },
    {
      "cell_type": "markdown",
      "source": [
        "### Useful methods"
      ],
      "metadata": {
        "id": "5n_t519ANekx"
      }
    },
    {
      "cell_type": "code",
      "source": [
        "# Each Pokémon's type (720 total)\n",
        "poke_types = ['Grass','Dark','Fire','Fire']\n",
        "type_counts = {}\n",
        "for poke_type in poke_types:\n",
        "  if poke_type not in type_counts:\n",
        "    type_counts[poke_type] = 1\n",
        "  else :\n",
        "    type_counts[poke_type] += 1\n",
        "print(type_counts)"
      ],
      "metadata": {
        "colab": {
          "base_uri": "https://localhost:8080/"
        },
        "id": "McBkRFYMMFMz",
        "outputId": "878064de-ed52-4fa9-a645-8b72b1f78171"
      },
      "execution_count": null,
      "outputs": [
        {
          "output_type": "stream",
          "name": "stdout",
          "text": [
            "{'Grass': 1, 'Dark': 1, 'Fire': 2}\n"
          ]
        }
      ]
    },
    {
      "cell_type": "code",
      "source": [
        "from collections import Counter\n",
        "poke_types = ['Grass','Dark','Fire','Fire']\n",
        "type_counts = Counter(poke_types)\n",
        "print(type_counts)"
      ],
      "metadata": {
        "colab": {
          "base_uri": "https://localhost:8080/"
        },
        "id": "6etPGdoSMxmx",
        "outputId": "e0c96e6b-fa17-4843-d4ed-9e057ac5843e"
      },
      "execution_count": null,
      "outputs": [
        {
          "output_type": "stream",
          "name": "stdout",
          "text": [
            "Counter({'Fire': 2, 'Grass': 1, 'Dark': 1})\n"
          ]
        }
      ]
    },
    {
      "cell_type": "code",
      "source": [
        "poke_types = ['Bug','Fire','Ghost','Grass','Water']\n",
        "combos = []\n",
        "\n",
        "for x in poke_types:\n",
        "  for y in poke_types:\n",
        "    if x == y:\n",
        "      continue\n",
        "    if ((x,y) not in combos) & ((y,x) not in combos):\n",
        "      combos.append((x,y))\n",
        "print(combos)"
      ],
      "metadata": {
        "colab": {
          "base_uri": "https://localhost:8080/"
        },
        "id": "PskI8AMwNSSf",
        "outputId": "c67ff309-2823-44e9-a6d9-5c1a66b4df0f"
      },
      "execution_count": null,
      "outputs": [
        {
          "output_type": "stream",
          "name": "stdout",
          "text": [
            "[('Bug', 'Fire'), ('Bug', 'Ghost'), ('Bug', 'Grass'), ('Bug', 'Water'), ('Fire', 'Ghost'), ('Fire', 'Grass'), ('Fire', 'Water'), ('Ghost', 'Grass'), ('Ghost', 'Water'), ('Grass', 'Water')]\n"
          ]
        }
      ]
    },
    {
      "cell_type": "code",
      "source": [
        "from itertools import combinations\n",
        "\n",
        "poke_types = ['Bug','Fire','Ghost','Grass','Water']\n",
        "combos = []\n",
        "combos_obj = combinations(poke_types, 2)\n",
        "print(type(combos_obj))"
      ],
      "metadata": {
        "colab": {
          "base_uri": "https://localhost:8080/"
        },
        "id": "7NOrQ3TbN-Dl",
        "outputId": "a289a235-8252-4352-a443-6337f0597661"
      },
      "execution_count": null,
      "outputs": [
        {
          "output_type": "stream",
          "name": "stdout",
          "text": [
            "<class 'itertools.combinations'>\n"
          ]
        }
      ]
    },
    {
      "cell_type": "code",
      "source": [
        "combos = [*combos_obj]\n",
        "print(combos)"
      ],
      "metadata": {
        "colab": {
          "base_uri": "https://localhost:8080/"
        },
        "id": "sGxjeupqONkJ",
        "outputId": "fd393bf0-0c9e-4ce6-803f-c2118d19a58c"
      },
      "execution_count": null,
      "outputs": [
        {
          "output_type": "stream",
          "name": "stdout",
          "text": [
            "[('Bug', 'Fire'), ('Bug', 'Ghost'), ('Bug', 'Grass'), ('Bug', 'Water'), ('Fire', 'Ghost'), ('Fire', 'Grass'), ('Fire', 'Water'), ('Ghost', 'Grass'), ('Ghost', 'Water'), ('Grass', 'Water')]\n"
          ]
        }
      ]
    },
    {
      "cell_type": "markdown",
      "source": [
        "## Set theory"
      ],
      "metadata": {
        "id": "j2NFJz4uOXmd"
      }
    },
    {
      "cell_type": "markdown",
      "source": [
        "Python has built-in set datatype with accompanying methods:\n",
        "- intersection() : all elements that are in both sets\n",
        "- difference() : all elements in one set but not the other\n",
        "- symmetric_difference() : all elements in exactly one set\n",
        "- union() : all elements that are in either set"
      ],
      "metadata": {
        "id": "uaF9OOazOprv"
      }
    },
    {
      "cell_type": "code",
      "source": [
        "list_a = ['Bulbasaur','Charmander','Squirtle']\n",
        "list_b = ['Caterpie','Pidgey','Squirtle']"
      ],
      "metadata": {
        "id": "trxiaFxEOTfz"
      },
      "execution_count": null,
      "outputs": []
    },
    {
      "cell_type": "code",
      "source": [
        "in_common = []\n",
        "for pokemon_a in list_a:\n",
        "  for pokemon_b in list_b:\n",
        "    if pokemon_a == pokemon_b:\n",
        "      in_common.append(pokemon_a)\n",
        "\n",
        "print(in_common)"
      ],
      "metadata": {
        "colab": {
          "base_uri": "https://localhost:8080/"
        },
        "id": "LmLcN8VOO9Y5",
        "outputId": "5e28b4ae-0e36-4083-aa5c-a3b07e6e2172"
      },
      "execution_count": null,
      "outputs": [
        {
          "output_type": "stream",
          "name": "stdout",
          "text": [
            "['Squirtle']\n"
          ]
        }
      ]
    },
    {
      "cell_type": "code",
      "source": [
        "set_a = set(list_a)\n",
        "print(set_a)"
      ],
      "metadata": {
        "colab": {
          "base_uri": "https://localhost:8080/"
        },
        "id": "Rb3jNvXJPWRq",
        "outputId": "311d41c0-80b2-42a2-ce50-328fa3324678"
      },
      "execution_count": null,
      "outputs": [
        {
          "output_type": "stream",
          "name": "stdout",
          "text": [
            "{'Squirtle', 'Charmander', 'Bulbasaur'}\n"
          ]
        }
      ]
    },
    {
      "cell_type": "code",
      "source": [
        "set_b = set(list_b)\n",
        "print(set_b)"
      ],
      "metadata": {
        "colab": {
          "base_uri": "https://localhost:8080/"
        },
        "id": "d743sTRTPo6p",
        "outputId": "0c67b8fd-87bf-4541-8fea-c8d9cc175b61"
      },
      "execution_count": null,
      "outputs": [
        {
          "output_type": "stream",
          "name": "stdout",
          "text": [
            "{'Squirtle', 'Pidgey', 'Caterpie'}\n"
          ]
        }
      ]
    },
    {
      "cell_type": "code",
      "source": [
        "set_a.intersection(set_b)\n"
      ],
      "metadata": {
        "colab": {
          "base_uri": "https://localhost:8080/"
        },
        "id": "Opl7ZoISP3zW",
        "outputId": "a2695091-a00a-408b-f3fa-9b501cd076b9"
      },
      "execution_count": null,
      "outputs": [
        {
          "output_type": "execute_result",
          "data": {
            "text/plain": [
              "{'Squirtle'}"
            ]
          },
          "metadata": {},
          "execution_count": 40
        }
      ]
    },
    {
      "cell_type": "code",
      "source": [
        "set_a.difference(set_b)"
      ],
      "metadata": {
        "colab": {
          "base_uri": "https://localhost:8080/"
        },
        "id": "jwys_kobQDy_",
        "outputId": "ea906e23-37ab-44fb-b886-789d8093c7cb"
      },
      "execution_count": null,
      "outputs": [
        {
          "output_type": "execute_result",
          "data": {
            "text/plain": [
              "{'Bulbasaur', 'Charmander'}"
            ]
          },
          "metadata": {},
          "execution_count": 41
        }
      ]
    },
    {
      "cell_type": "code",
      "source": [
        "set_a.symmetric_difference(set_b)"
      ],
      "metadata": {
        "colab": {
          "base_uri": "https://localhost:8080/"
        },
        "id": "N4On4oHUQHy8",
        "outputId": "666887c3-1206-4f29-b1b8-4893e8097546"
      },
      "execution_count": null,
      "outputs": [
        {
          "output_type": "execute_result",
          "data": {
            "text/plain": [
              "{'Bulbasaur', 'Caterpie', 'Charmander', 'Pidgey'}"
            ]
          },
          "metadata": {},
          "execution_count": 42
        }
      ]
    },
    {
      "cell_type": "code",
      "source": [
        "set_a.union(set_b)"
      ],
      "metadata": {
        "colab": {
          "base_uri": "https://localhost:8080/"
        },
        "id": "PYVor10xQTLy",
        "outputId": "e4d31189-d5ab-48b1-e085-d7e001269173"
      },
      "execution_count": null,
      "outputs": [
        {
          "output_type": "execute_result",
          "data": {
            "text/plain": [
              "{'Bulbasaur', 'Caterpie', 'Charmander', 'Pidgey', 'Squirtle'}"
            ]
          },
          "metadata": {},
          "execution_count": 43
        }
      ]
    },
    {
      "cell_type": "markdown",
      "source": [
        "## Eliminating loops"
      ],
      "metadata": {
        "id": "5V4FKZwVQ4bD"
      }
    },
    {
      "cell_type": "markdown",
      "source": [
        "Looping pattern\n",
        "\n",
        "- for loop: iterate over sequence piece-by-piece\n",
        "- while loop: repeat loop as long as condition is met\n",
        "- \"nested\" loops: use one loop inside another loop"
      ],
      "metadata": {
        "id": "J4-zleCAlB20"
      }
    },
    {
      "cell_type": "markdown",
      "source": [
        "Benefits of eliminating loops\n",
        "- Fewer lines of code\n",
        "- Better code readability\n",
        "- efficiency gains"
      ],
      "metadata": {
        "id": "63yZJxBtlrCZ"
      }
    },
    {
      "cell_type": "code",
      "source": [
        "# List of HP, Attack, Defense, Speed\n",
        "poke_stats = [\n",
        "[90, 92, 75, 60],\n",
        "[25, 20, 15, 90],\n",
        "[65, 130, 60, 75]]"
      ],
      "metadata": {
        "id": "yUcDcaSnQ6FR"
      },
      "execution_count": null,
      "outputs": []
    },
    {
      "cell_type": "code",
      "source": [
        "# For loop approach\n",
        "%%timeit\n",
        "totals = []\n",
        "for row in poke_stats:\n",
        "  totals.append(sum(row))"
      ],
      "metadata": {
        "colab": {
          "base_uri": "https://localhost:8080/"
        },
        "id": "OT6Uu9FGmBeM",
        "outputId": "1e8cd5f1-d822-429d-cbea-9e26ca2c393b"
      },
      "execution_count": null,
      "outputs": [
        {
          "output_type": "stream",
          "name": "stdout",
          "text": [
            "637 ns ± 18 ns per loop (mean ± std. dev. of 7 runs, 1000000 loops each)\n"
          ]
        }
      ]
    },
    {
      "cell_type": "code",
      "source": [
        "%%timeit\n",
        "totals"
      ],
      "metadata": {
        "colab": {
          "base_uri": "https://localhost:8080/"
        },
        "id": "lqkrT0lAmVeu",
        "outputId": "24765c3b-30b6-489d-d167-62e1c2f0ed4e"
      },
      "execution_count": null,
      "outputs": [
        {
          "output_type": "stream",
          "name": "stdout",
          "text": [
            "45.5 ns ± 14.7 ns per loop (mean ± std. dev. of 7 runs, 10000000 loops each)\n"
          ]
        }
      ]
    },
    {
      "cell_type": "code",
      "source": [
        "# List comprehension\n",
        "%%timeit \n",
        "totals_comp = [sum(row) for row in poke_stats]"
      ],
      "metadata": {
        "colab": {
          "base_uri": "https://localhost:8080/"
        },
        "id": "2zrI8y1WmJPD",
        "outputId": "b20af363-a4d0-4b2f-b07a-a23bcadb8a0b"
      },
      "execution_count": null,
      "outputs": [
        {
          "output_type": "stream",
          "name": "stdout",
          "text": [
            "1.37 µs ± 428 ns per loop (mean ± std. dev. of 7 runs, 1000000 loops each)\n"
          ]
        }
      ]
    },
    {
      "cell_type": "code",
      "source": [
        "%%timeit \n",
        "totals_comp"
      ],
      "metadata": {
        "colab": {
          "base_uri": "https://localhost:8080/"
        },
        "id": "GcU8RfqRmnd1",
        "outputId": "2bd4490d-2556-4bce-b89a-9f02f00ee2ed"
      },
      "execution_count": null,
      "outputs": [
        {
          "output_type": "stream",
          "name": "stdout",
          "text": [
            "30.5 ns ± 0.942 ns per loop (mean ± std. dev. of 7 runs, 10000000 loops each)\n"
          ]
        }
      ]
    },
    {
      "cell_type": "code",
      "source": [
        "# Built-in map() function _ the most efficiency way (%%timeit)\n",
        "%%timeit \n",
        "totals_map = [*map(sum, poke_stats)]"
      ],
      "metadata": {
        "colab": {
          "base_uri": "https://localhost:8080/"
        },
        "id": "mEjWW88qmPs4",
        "outputId": "03fa3868-4354-4980-add6-fcc47920ae52"
      },
      "execution_count": null,
      "outputs": [
        {
          "output_type": "stream",
          "name": "stdout",
          "text": [
            "565 ns ± 39.2 ns per loop (mean ± std. dev. of 7 runs, 1000000 loops each)\n"
          ]
        }
      ]
    },
    {
      "cell_type": "code",
      "source": [
        "%%timeit\n",
        "totals_map"
      ],
      "metadata": {
        "colab": {
          "base_uri": "https://localhost:8080/"
        },
        "id": "ZFUUFQzDmkYI",
        "outputId": "eba0854a-f48b-4f64-da24-fb220066f110"
      },
      "execution_count": null,
      "outputs": [
        {
          "output_type": "stream",
          "name": "stdout",
          "text": [
            "30.3 ns ± 0.905 ns per loop (mean ± std. dev. of 7 runs, 10000000 loops each)\n"
          ]
        }
      ]
    },
    {
      "cell_type": "code",
      "source": [
        "poke_types = ['Bug','Fire','Ghost','Grass','Water']"
      ],
      "metadata": {
        "id": "s2srvAUzmy7a"
      },
      "execution_count": null,
      "outputs": []
    },
    {
      "cell_type": "code",
      "source": [
        "# Nested for loop approach\n",
        "combos = []\n",
        "for x in poke_types:\n",
        "  for y in poke_types:\n",
        "    if x == y:\n",
        "      continue\n",
        "    if ((x,y) not in combos) & ((y,x) not in combos):\n",
        "      combos.append((x,y))"
      ],
      "metadata": {
        "id": "B1QzxNfarBnr"
      },
      "execution_count": null,
      "outputs": []
    },
    {
      "cell_type": "code",
      "source": [
        "combos"
      ],
      "metadata": {
        "colab": {
          "base_uri": "https://localhost:8080/"
        },
        "id": "XcQETQoxrJ1t",
        "outputId": "59a652bf-c7c1-49bb-dd5d-0b5a772fb083"
      },
      "execution_count": null,
      "outputs": [
        {
          "output_type": "execute_result",
          "data": {
            "text/plain": [
              "[('Bug', 'Fire'),\n",
              " ('Bug', 'Ghost'),\n",
              " ('Bug', 'Grass'),\n",
              " ('Bug', 'Water'),\n",
              " ('Fire', 'Ghost'),\n",
              " ('Fire', 'Grass'),\n",
              " ('Fire', 'Water'),\n",
              " ('Ghost', 'Grass'),\n",
              " ('Ghost', 'Water'),\n",
              " ('Grass', 'Water')]"
            ]
          },
          "metadata": {},
          "execution_count": 30
        }
      ]
    },
    {
      "cell_type": "code",
      "source": [
        "# Built-in module approach\n",
        "from itertools import combinations\n",
        "\n",
        "combos2 = [*combinations(poke_types, 2)]\n",
        "combos2"
      ],
      "metadata": {
        "colab": {
          "base_uri": "https://localhost:8080/"
        },
        "id": "ZlEUswDArMJ4",
        "outputId": "60f51bff-f087-4772-8022-a7f3986e5a36"
      },
      "execution_count": null,
      "outputs": [
        {
          "output_type": "execute_result",
          "data": {
            "text/plain": [
              "[('Bug', 'Fire'),\n",
              " ('Bug', 'Ghost'),\n",
              " ('Bug', 'Grass'),\n",
              " ('Bug', 'Water'),\n",
              " ('Fire', 'Ghost'),\n",
              " ('Fire', 'Grass'),\n",
              " ('Fire', 'Water'),\n",
              " ('Ghost', 'Grass'),\n",
              " ('Ghost', 'Water'),\n",
              " ('Grass', 'Water')]"
            ]
          },
          "metadata": {},
          "execution_count": 32
        }
      ]
    },
    {
      "cell_type": "code",
      "source": [
        "poke_stats = np.array([\n",
        "[90, 92, 75, 60],\n",
        "[25, 20, 15, 90],\n",
        "[65, 130, 60, 75]\n",
        "])"
      ],
      "metadata": {
        "id": "XllH9xzrrXAT"
      },
      "execution_count": null,
      "outputs": []
    },
    {
      "cell_type": "code",
      "source": [
        "avgs = []\n",
        "for row in poke_stats:\n",
        "  avg = np.mean(row)\n",
        "  avgs.append(avg)\n",
        "print(avgs)"
      ],
      "metadata": {
        "colab": {
          "base_uri": "https://localhost:8080/"
        },
        "id": "KooRxdX0rnn-",
        "outputId": "400f5e69-9be7-4d0b-c457-ab990b63996b"
      },
      "execution_count": null,
      "outputs": [
        {
          "output_type": "stream",
          "name": "stdout",
          "text": [
            "[79.25, 37.5, 82.5]\n"
          ]
        }
      ]
    },
    {
      "cell_type": "code",
      "source": [
        "avgs_np = poke_stats.mean(axis=1)\n",
        "print(avgs_np)"
      ],
      "metadata": {
        "colab": {
          "base_uri": "https://localhost:8080/"
        },
        "id": "am-cKKmgrtQy",
        "outputId": "12f70f81-f1d1-41a3-c434-832529412768"
      },
      "execution_count": null,
      "outputs": [
        {
          "output_type": "stream",
          "name": "stdout",
          "text": [
            "[79.25 37.5  82.5 ]\n"
          ]
        }
      ]
    },
    {
      "cell_type": "markdown",
      "source": [
        "## Writing better loops"
      ],
      "metadata": {
        "id": "FyVBJ--3r-8a"
      }
    },
    {
      "cell_type": "code",
      "source": [
        "names = ['Absol','Aron','Jynx','Natu','Onix']\n",
        "attacks = np.array([130, 70, 50, 50, 45])\n",
        "\n",
        "for pokemon,attack in zip(names, attacks):\n",
        "  total_attack_avg = attacks.mean()\n",
        "  if attack > total_attack_avg:\n",
        "    print(\"{}'s attack: {} > average: {}!\".format(pokemon, attack, total_attack_avg))"
      ],
      "metadata": {
        "colab": {
          "base_uri": "https://localhost:8080/"
        },
        "id": "3o1Q-L1br6rS",
        "outputId": "c61ca418-570e-4579-a22a-ad3c17acd3cc"
      },
      "execution_count": null,
      "outputs": [
        {
          "output_type": "stream",
          "name": "stdout",
          "text": [
            "Absol's attack: 130 > average: 69.0!\n",
            "Aron's attack: 70 > average: 69.0!\n"
          ]
        }
      ]
    },
    {
      "cell_type": "code",
      "source": [
        "import numpy as np\n",
        "names = ['Absol','Aron','Natu','Onix']\n",
        "attacks = np.array([130, 70, 50, 50, 45])\n",
        "\n",
        "# Calculate total average once (outside the loop)\n",
        "total_attack_avg = attacks.mean()\n",
        "for pokemon,attack in zip(names, attacks):\n",
        "  if attack > total_attack_avg:\n",
        "    print(\"{}'s attack: {} > average: {}!\".format(pokemon, attack, total_attack_avg))"
      ],
      "metadata": {
        "colab": {
          "base_uri": "https://localhost:8080/"
        },
        "id": "vwMRwEc3sVqA",
        "outputId": "3147ff96-06d9-4b5c-feae-b1f7bcd13ef2"
      },
      "execution_count": null,
      "outputs": [
        {
          "output_type": "stream",
          "name": "stdout",
          "text": [
            "Absol's attack: 130 > average: 69.0!\n",
            "Aron's attack: 70 > average: 69.0!\n"
          ]
        }
      ]
    },
    {
      "cell_type": "markdown",
      "source": [
        "### Using holistic conversions"
      ],
      "metadata": {
        "id": "AJnt3K6xtAa2"
      }
    },
    {
      "cell_type": "code",
      "source": [
        "names = ['Pikachu','Squirtle','Articuno']\n",
        "legend_status = [False, False, True]\n",
        "generations = [1, 1, 1, ...]\n",
        "\n",
        "poke_data = []\n",
        "\n",
        "for poke_tuple in zip(names, legend_status, generations):\n",
        "  poke_list = list(poke_tuple)\n",
        "  poke_data.append(poke_list)\n",
        "print(poke_data)"
      ],
      "metadata": {
        "colab": {
          "base_uri": "https://localhost:8080/"
        },
        "id": "YmsWuvYfs2Xo",
        "outputId": "1b6b29b0-f851-4a3d-fc56-d2714b68f5c4"
      },
      "execution_count": null,
      "outputs": [
        {
          "output_type": "stream",
          "name": "stdout",
          "text": [
            "[['Pikachu', False, 1], ['Squirtle', False, 1], ['Articuno', True, 1]]\n"
          ]
        }
      ]
    },
    {
      "cell_type": "code",
      "source": [
        "names = ['Pikachu','Squirtle','Articuno']\n",
        "legend_status = [False, False, True]\n",
        "generations = [1, 1, 1]\n",
        "poke_data_tuples = []\n",
        "for poke_tuple in zip(names, legend_status, generations):\n",
        "  poke_data_tuples.append(poke_tuple)\n",
        "  poke_data = [*map(list, poke_data_tuples)]\n",
        "print(poke_data)"
      ],
      "metadata": {
        "colab": {
          "base_uri": "https://localhost:8080/"
        },
        "id": "iP6di6L9tYbg",
        "outputId": "7bf9a31f-3b66-4a97-ebca-56e8ba5ca616"
      },
      "execution_count": null,
      "outputs": [
        {
          "output_type": "stream",
          "name": "stdout",
          "text": [
            "[['Pikachu', False, 1], ['Squirtle', False, 1], ['Articuno', True, 1]]\n"
          ]
        }
      ]
    },
    {
      "cell_type": "code",
      "source": [],
      "metadata": {
        "id": "6gp76FZbuCty"
      },
      "execution_count": null,
      "outputs": []
    }
  ]
}